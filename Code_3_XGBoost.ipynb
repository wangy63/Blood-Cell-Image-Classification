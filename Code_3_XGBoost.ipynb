{
 "cells": [
  {
   "cell_type": "code",
   "execution_count": 2,
   "metadata": {},
   "outputs": [
    {
     "name": "stdout",
     "output_type": "stream",
     "text": [
      "(1000, 60, 80, 3)\n",
      "(55, 60, 80, 3)\n",
      "(55, 60, 80, 3)\n"
     ]
    }
   ],
   "source": [
    "import matplotlib.pyplot as plt\n",
    "import numpy as np\n",
    "from sklearn.neighbors import KNeighborsClassifier\n",
    "import os\n",
    "import socket\n",
    "import cv2\n",
    "import scipy\n",
    "from sklearn.model_selection import GridSearchCV\n",
    "\n",
    "import PIL\n",
    "from PIL import Image\n",
    "\n",
    "import xgboost as xgb\n",
    "from sklearn.metrics import classification_report\n",
    "from sklearn.metrics import confusion_matrix\n",
    "from sklearn.metrics import confusion_matrix\n",
    "from sklearn.metrics import accuracy_score\n",
    "\n",
    "# get data from folder\n",
    "def get_data(folder):\n",
    "    \"\"\"\n",
    "    Load the data and labels from the given folder.\n",
    "    \"\"\"\n",
    "    size = 80, 80, 3\n",
    "    X = []\n",
    "    y = []\n",
    "    for wbc_type in os.listdir(folder):\n",
    "        if not wbc_type.startswith('.'):\n",
    "            if wbc_type in ['NEUTROPHIL']:\n",
    "                label = 0\n",
    "            elif wbc_type in ['EOSINOPHIL']:\n",
    "                label = 1\n",
    "            elif wbc_type in ['MONOCYTE']:\n",
    "                label = 2\n",
    "            elif wbc_type in ['LYMPHOCYTE']:\n",
    "                label = 3\n",
    "\n",
    "            for image_filename in os.listdir(folder + wbc_type):\n",
    "                img_file = Image.open(folder + wbc_type + '/' + image_filename)\n",
    "                if img_file is not None:\n",
    "                    img_file.thumbnail(size)\n",
    "                    img_arr = np.asarray(img_file)\n",
    "                    X.append(img_arr)\n",
    "                    y.append(label)\n",
    "\n",
    "    X = np.asarray(X)\n",
    "    print(X.shape)\n",
    "    y = np.asarray(y)\n",
    "    nb_classes = 4 # number of categories\n",
    "    targets = y.reshape(-1)\n",
    "    yy = np.eye(nb_classes)[targets]\n",
    "    return X,yy,y\n",
    "\n",
    "# get data\n",
    "X_train, y_train_nn,y_train = get_data('train//')\n",
    "X_test, y_test_nn,y_test = get_data('test//')\n",
    "X_val, y_val_nn,y_val = get_data('validation//')\n",
    "\n",
    "def convert(x):\n",
    "    nsamples, nx, ny,dim = x.shape\n",
    "    return (x.reshape((nsamples,nx*ny*dim)),x.reshape((nsamples,nx*ny,dim)))\n",
    "X_train_new=convert(X_train)[0]\n",
    "X_val_new=convert(X_val)[0]\n",
    "X_test_new = convert(X_test)[0]\n",
    "\n",
    "y_trainHot_new=y_train\n",
    "y_valHot_new=y_val\n",
    "y_testHot_new = y_test\n"
   ]
  },
  {
   "cell_type": "code",
   "execution_count": null,
   "metadata": {},
   "outputs": [],
   "source": [
    "# XGboost\n",
    "# define parameter\n",
    "n_estimators = [50, 100, 150]\n",
    "max_depth = [2, 4, 6, 8]\n",
    "learning_rate = [0.001, 0.01, 0.05, 0.1]\n",
    "model = xgb.XGBClassifier()\n",
    "\n",
    "# start tuning\n",
    "for depth in max_depth:\n",
    "    for n in n_estimators:\n",
    "        for lr in learning_rate:\n",
    "            print(\"depth:\" ,depth)\n",
    "            print(\"n_estimator:\" ,n)\n",
    "            print(\"learn rate:\" ,lr)\n",
    "            \n",
    "            # other parameter are based on kaggle report \n",
    "            model = xgb.XGBClassifier(objective=\"binary:logistic\", random_state=42,\n",
    "                             colsample_bytree = 0.7072947899294361,\n",
    "                             gamma = 0.3227361479535839,\n",
    "                             learning_rate = lr,\n",
    "                             max_depth = depth,\n",
    "                             n_estimators = n,\n",
    "                             subsample = 0.9815714308010349, verbose=1)\n",
    "            # predict on validation set\n",
    "            model.fit(X_train_new, y_train)\n",
    "            pred = model.predict(X_val_new)\n",
    "            cm=accuracy_score(y_val, pred)\n",
    "            print('Accuracy: ',cm) \n"
   ]
  },
  {
   "cell_type": "code",
   "execution_count": 7,
   "metadata": {},
   "outputs": [
    {
     "name": "stdout",
     "output_type": "stream",
     "text": [
      "Accuracy:  0.5272727272727272\n"
     ]
    }
   ],
   "source": [
    "# fit model based on best parameter performance\n",
    "model = xgb.XGBClassifier(objective=\"binary:logistic\", random_state=42,\n",
    "                             colsample_bytree = 0.7072947899294361,\n",
    "                             gamma = 0.3227361479535839,\n",
    "                             learning_rate = 0.1,\n",
    "                             max_depth = 8,\n",
    "                             n_estimators = 100,\n",
    "                             subsample = 0.9815714308010349, verbose=1)\n",
    "# predict on test data \n",
    "model.fit(X_train_new, y_train)\n",
    "pred = model.predict(X_test_new)\n",
    "cm=accuracy_score(y_test, pred)\n",
    "print('Accuracy: ',cm) "
   ]
  },
  {
   "cell_type": "code",
   "execution_count": null,
   "metadata": {},
   "outputs": [],
   "source": []
  },
  {
   "cell_type": "code",
   "execution_count": null,
   "metadata": {},
   "outputs": [],
   "source": []
  }
 ],
 "metadata": {
  "kernelspec": {
   "display_name": "Python 3",
   "language": "python",
   "name": "python3"
  },
  "language_info": {
   "codemirror_mode": {
    "name": "ipython",
    "version": 3
   },
   "file_extension": ".py",
   "mimetype": "text/x-python",
   "name": "python",
   "nbconvert_exporter": "python",
   "pygments_lexer": "ipython3",
   "version": "3.6.9"
  }
 },
 "nbformat": 4,
 "nbformat_minor": 2
}
