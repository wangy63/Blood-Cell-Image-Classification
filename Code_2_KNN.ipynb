{
 "cells": [
  {
   "cell_type": "code",
   "execution_count": 3,
   "metadata": {},
   "outputs": [
    {
     "name": "stdout",
     "output_type": "stream",
     "text": [
      "(1000, 60, 80, 3)\n",
      "(55, 60, 80, 3)\n",
      "(55, 60, 80, 3)\n"
     ]
    }
   ],
   "source": [
    "import matplotlib.pyplot as plt\n",
    "import numpy as np\n",
    "from sklearn.neighbors import KNeighborsClassifier\n",
    "import os\n",
    "import socket\n",
    "import cv2\n",
    "import scipy\n",
    "from sklearn.model_selection import GridSearchCV\n",
    "\n",
    "import PIL\n",
    "from PIL import Image\n",
    "\n",
    "# get data from folder\n",
    "def get_data(folder):\n",
    "    \"\"\"\n",
    "    Load the data and labels from the given folder.\n",
    "    \"\"\"\n",
    "    size = 80, 80, 3\n",
    "    X = []\n",
    "    y = []\n",
    "    for wbc_type in os.listdir(folder):\n",
    "        if not wbc_type.startswith('.'):\n",
    "            if wbc_type in ['NEUTROPHIL']:\n",
    "                label = 0\n",
    "            elif wbc_type in ['EOSINOPHIL']:\n",
    "                label = 1\n",
    "            elif wbc_type in ['MONOCYTE']:\n",
    "                label = 2\n",
    "            elif wbc_type in ['LYMPHOCYTE']:\n",
    "                label = 3\n",
    "\n",
    "            for image_filename in os.listdir(folder + wbc_type):\n",
    "                img_file = Image.open(folder + wbc_type + '/' + image_filename)\n",
    "                if img_file is not None:\n",
    "                    img_file.thumbnail(size)\n",
    "                    img_arr = np.asarray(img_file)\n",
    "                    X.append(img_arr)\n",
    "                    y.append(label)\n",
    "\n",
    "    X = np.asarray(X)\n",
    "    print(X.shape)\n",
    "    y = np.asarray(y)\n",
    "    nb_classes = 4\n",
    "    targets = y.reshape(-1)\n",
    "    yy = np.eye(nb_classes)[targets]\n",
    "    return X, yy,y\n",
    "\n",
    "X_train, y_train_nn,y_train = get_data('train//')\n",
    "X_test, y_test_nn,y_test = get_data('test//')\n",
    "X_val, y_val_nn,y_val = get_data('validation//')\n",
    "\n",
    "#Make dataset inputs into correct dimensions form.\n",
    "def convert(x):\n",
    "    nsamples, nx, ny,dim = x.shape\n",
    "    return (x.reshape((nsamples,nx*ny*dim)),x.reshape((nsamples,nx*ny,dim)))\n",
    "\n",
    "X_train_new=convert(X_train)[0]\n",
    "X_val_new=convert(X_val)[0]\n",
    "X_test_new=convert(X_test)[0]\n",
    "\n",
    "y_trainHot_new=y_train\n",
    "y_valHot_new=y_val\n",
    "y_testHot_new=y_test"
   ]
  },
  {
   "cell_type": "code",
   "execution_count": 7,
   "metadata": {},
   "outputs": [
    {
     "name": "stdout",
     "output_type": "stream",
     "text": [
      "Fitting 10 folds for each of 9 candidates, totalling 90 fits\n"
     ]
    },
    {
     "name": "stderr",
     "output_type": "stream",
     "text": [
      "[Parallel(n_jobs=1)]: Using backend SequentialBackend with 1 concurrent workers.\n",
      "[Parallel(n_jobs=1)]: Done  90 out of  90 | elapsed: 19.9min finished\n"
     ]
    },
    {
     "name": "stdout",
     "output_type": "stream",
     "text": [
      "best score is: 0.539\n",
      "best params are: {'algorithm': 'auto', 'leaf_size': 2, 'n_neighbors': 3, 'weights': 'uniform'}\n"
     ]
    }
   ],
   "source": [
    "#Implement KNN and use GridSearchCV to find the best parameters.\n",
    "# define parameter\n",
    "knn = KNeighborsClassifier()\n",
    "\n",
    "#Define the range of neighbours' number, leaf range of training stop, distance and weights of neighbourss.\n",
    "k_range = list(range(3,6))\n",
    "leaf_range = list(range(2,5))\n",
    "weight_options = ['uniform']\n",
    "algorithm_options = ['auto']\n",
    "\n",
    "param_gridknn = dict(n_neighbors = k_range,weights = weight_options,algorithm=algorithm_options,leaf_size=leaf_range)\n",
    "\n",
    "# grid search for the best hyperparameters\n",
    "gridKNN = GridSearchCV(knn,param_gridknn,cv=10,scoring='accuracy',verbose=1)\n",
    "gridKNN.fit(X_train_new,y_trainHot_new)\n",
    "\n",
    "print('best score is:',str(gridKNN.best_score_))\n",
    "print('best params are:',str(gridKNN.best_params_))"
   ]
  },
  {
   "cell_type": "code",
   "execution_count": 8,
   "metadata": {},
   "outputs": [
    {
     "name": "stdout",
     "output_type": "stream",
     "text": [
      "0.5272727272727272\n"
     ]
    }
   ],
   "source": [
    "# use the best hyperparameters to predict testing dataset\n",
    "from sklearn import metrics\n",
    "\n",
    "knn_pre=KNeighborsClassifier(n_neighbors=3,leaf_size=2,weights='uniform',algorithm='auto')\n",
    "knn_pre.fit(X_train_new,y_trainHot_new)\n",
    "y_pred=knn_pre.predict(X_test_new)\n",
    "\n",
    "print(metrics.accuracy_score(y_testHot_new,y_pred))"
   ]
  }
 ],
 "metadata": {
  "kernelspec": {
   "display_name": "Python 3",
   "language": "python",
   "name": "python3"
  },
  "language_info": {
   "codemirror_mode": {
    "name": "ipython",
    "version": 3
   },
   "file_extension": ".py",
   "mimetype": "text/x-python",
   "name": "python",
   "nbconvert_exporter": "python",
   "pygments_lexer": "ipython3",
   "version": "3.7.1"
  }
 },
 "nbformat": 4,
 "nbformat_minor": 2
}
